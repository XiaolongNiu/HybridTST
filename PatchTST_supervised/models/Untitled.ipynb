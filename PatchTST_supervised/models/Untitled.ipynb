{
 "cells": [
  {
   "cell_type": "code",
   "execution_count": 1,
   "id": "64883a2a-15e9-4f1b-9578-be9ee9c42f21",
   "metadata": {},
   "outputs": [
    {
     "name": "stderr",
     "output_type": "stream",
     "text": [
      "/usr/local/anaconda3/lib/python3.9/site-packages/scipy/__init__.py:146: UserWarning: A NumPy version >=1.16.5 and <1.23.0 is required for this version of SciPy (detected version 1.24.3\n",
      "  warnings.warn(f\"A NumPy version >={np_minversion} and <{np_maxversion}\"\n"
     ]
    }
   ],
   "source": [
    "from feature_engineering import  DataTransformer,ImageTransformer"
   ]
  },
  {
   "cell_type": "code",
   "execution_count": 2,
   "id": "f983c60c-1393-4a12-ba56-de97abbf157f",
   "metadata": {},
   "outputs": [
    {
     "name": "stdout",
     "output_type": "stream",
     "text": [
      "/home/jmz/patchtst/PatchTST_supervised/models\n"
     ]
    }
   ],
   "source": [
    "!pwd"
   ]
  },
  {
   "cell_type": "code",
   "execution_count": 133,
   "id": "d53fef55-7889-4377-b0e9-56681696a2b8",
   "metadata": {},
   "outputs": [],
   "source": [
    "path='/home/jmz/huangshan_dataset/huangshan_data_fill_count_in_feature.csv'"
   ]
  },
  {
   "cell_type": "code",
   "execution_count": 134,
   "id": "2281d71d-17c6-4582-b499-426dd0c6200d",
   "metadata": {},
   "outputs": [],
   "source": [
    "import pandas as pd\n",
    "data=pd.read_csv(path,index_col=None)"
   ]
  },
  {
   "cell_type": "code",
   "execution_count": 147,
   "id": "3415c369-ad6c-454d-919c-ce3366ab07ff",
   "metadata": {},
   "outputs": [
    {
     "name": "stderr",
     "output_type": "stream",
     "text": [
      "/tmp/ipykernel_32269/2543258906.py:1: SettingWithCopyWarning: \n",
      "A value is trying to be set on a copy of a slice from a DataFrame.\n",
      "Try using .loc[row_indexer,col_indexer] = value instead\n",
      "\n",
      "See the caveats in the documentation: https://pandas.pydata.org/pandas-docs/stable/user_guide/indexing.html#returning-a-view-versus-a-copy\n",
      "  data['date'] = pd.to_datetime(data['date'])  # 将'date'列转换为日期时间类型\n"
     ]
    }
   ],
   "source": [
    "data['date'] = pd.to_datetime(data['date'])  # 将'date'列转换为日期时间类型\n",
    "# data.set_index('date', inplace=True)  # 将'date'列设置为时间索引\n",
    "data_time=data['date']\n",
    "data=data.drop('date', axis=1)"
   ]
  },
  {
   "cell_type": "code",
   "execution_count": 144,
   "id": "68e17b11-f72a-411c-9917-139c1846a3da",
   "metadata": {},
   "outputs": [],
   "source": [
    "# data.iloc[:473184 ,:]"
   ]
  },
  {
   "cell_type": "code",
   "execution_count": 148,
   "id": "dabf8968-b5a9-4550-9c36-2355ff118238",
   "metadata": {},
   "outputs": [],
   "source": [
    "data=data.iloc[:473184 ,:]"
   ]
  },
  {
   "cell_type": "code",
   "execution_count": 150,
   "id": "81df1fb7-819c-4ee8-8162-f4008b3aa6ca",
   "metadata": {},
   "outputs": [
    {
     "data": {
      "text/plain": [
       "86"
      ]
     },
     "execution_count": 150,
     "metadata": {},
     "output_type": "execute_result"
    }
   ],
   "source": [
    "data.shape[1]"
   ]
  },
  {
   "cell_type": "code",
   "execution_count": 91,
   "id": "4c930caa-546d-48b9-a11e-3ef5911f22ed",
   "metadata": {},
   "outputs": [
    {
     "name": "stdout",
     "output_type": "stream",
     "text": [
      "0 tol_num\n",
      "1 head_data_tkt_check_num_total\n",
      "2 new_line_uphill_num\n",
      "3 down_mountain_cable_check_ticket_total_num\n",
      "4 down_mountain_cable_check_ticket_taiping_num\n",
      "5 down_mountain_cable_check_ticket_yuping_num\n",
      "6 down_mountain_cable_check_ticket_yungu_num\n",
      "7 new_line_destination_ygs_num\n",
      "8 new_line_destination_sga_num\n",
      "9 new_line_destination_cgg_num\n",
      "10 uphill_ticket_total_check_num\n",
      "11 uphill_ticket_site_num_cgg\n",
      "12 uphill_ticket_site_num_sga\n",
      "13 uphill_ticket_site_num_yg\n",
      "14 uphill_ticket_site_num_dqa\n",
      "15 uphill_ticket_site_num_yl\n",
      "16 uphill_ticket_cable_way_ypsd_num\n",
      "17 uphill_ticket_cable_way_ygsd_num\n",
      "18 uphill_ticket_cable_way_tpsd_num\n",
      "19 uphill_ticket_cable_way_sxsd_total_num\n",
      "20 ip_in_0_1_111\n",
      "21 ip_in_0_1_130\n",
      "22 ip_in_0_1_79\n",
      "23 ip_in_0_1_82\n",
      "24 ip_in_1_1_100\n",
      "25 ip_in_1_1_101\n",
      "26 ip_in_1_1_102\n",
      "27 ip_in_1_1_108\n",
      "28 ip_in_1_1_23\n",
      "29 ip_in_1_1_25\n",
      "30 ip_in_1_1_31\n",
      "31 ip_in_1_1_33\n",
      "32 ip_in_1_1_34\n",
      "33 ip_in_1_1_37\n",
      "34 ip_in_1_1_38\n",
      "35 ip_in_1_1_52\n",
      "36 ip_in_1_1_55\n",
      "37 ip_in_1_1_64\n",
      "38 ip_in_1_1_66\n",
      "39 ip_in_1_1_71\n",
      "40 ip_in_1_1_79\n",
      "41 ip_in_1_1_87\n",
      "42 ip_in_1_1_92\n",
      "43 ip_in_1_1_93\n",
      "44 ip_in_1_1_95\n",
      "45 ip_in_1_1_96\n",
      "46 ip_in_1_1_98\n",
      "47 ip_in_1_1_99\n",
      "48 ip_in_8_6_26\n",
      "49 ip_out_0_1_111\n",
      "50 ip_out_0_1_130\n",
      "51 ip_out_0_1_79\n",
      "52 ip_out_0_1_82\n",
      "53 ip_out_1_1_100\n",
      "54 ip_out_1_1_101\n",
      "55 ip_out_1_1_102\n",
      "56 ip_out_1_1_108\n",
      "57 ip_out_1_1_23\n",
      "58 ip_out_1_1_25\n",
      "59 ip_out_1_1_31\n",
      "60 ip_out_1_1_33\n",
      "61 ip_out_1_1_34\n",
      "62 ip_out_1_1_37\n",
      "63 ip_out_1_1_38\n",
      "64 ip_out_1_1_52\n",
      "65 ip_out_1_1_55\n",
      "66 ip_out_1_1_64\n",
      "67 ip_out_1_1_66\n",
      "68 ip_out_1_1_71\n",
      "69 ip_out_1_1_79\n",
      "70 ip_out_1_1_87\n",
      "71 ip_out_1_1_92\n",
      "72 ip_out_1_1_93\n",
      "73 ip_out_1_1_95\n",
      "74 ip_out_1_1_96\n",
      "75 ip_out_1_1_98\n",
      "76 ip_out_1_1_99\n",
      "77 ip_out_8_6_26\n",
      "78 OT\n",
      "79 weekend\n",
      "80 workday\n",
      "81 holiday\n",
      "82 holiday_or\n",
      "83 holiday_legal\n",
      "84 holiday_recess\n",
      "85 booking\n"
     ]
    }
   ],
   "source": [
    "j=0\n",
    "for i in data.columns:\n",
    "    print(j,i)\n",
    "    j+=1"
   ]
  },
  {
   "cell_type": "code",
   "execution_count": 151,
   "id": "646c36bc-df70-4d2a-b117-1bbbd2368c61",
   "metadata": {},
   "outputs": [
    {
     "data": {
      "text/plain": [
       "(473184, 86)"
      ]
     },
     "execution_count": 151,
     "metadata": {},
     "output_type": "execute_result"
    }
   ],
   "source": [
    "data.shape"
   ]
  },
  {
   "cell_type": "code",
   "execution_count": 84,
   "id": "3272701b-6d08-4f17-9a5f-064f5b9c30a8",
   "metadata": {},
   "outputs": [
    {
     "data": {
      "text/plain": [
       "0         0.0\n",
       "1         0.0\n",
       "2         0.0\n",
       "3         0.0\n",
       "4         0.0\n",
       "        ...  \n",
       "4995    238.0\n",
       "4996    238.0\n",
       "4997    271.0\n",
       "4998    271.0\n",
       "4999    271.0\n",
       "Name: head_data_tkt_check_num_total, Length: 5000, dtype: float64"
      ]
     },
     "execution_count": 84,
     "metadata": {},
     "output_type": "execute_result"
    }
   ],
   "source": [
    "column = data.iloc[:,2]\n",
    "column"
   ]
  },
  {
   "cell_type": "code",
   "execution_count": 104,
   "id": "41774fc3-579d-4435-aa7a-e8606e70c163",
   "metadata": {},
   "outputs": [
    {
     "name": "stdout",
     "output_type": "stream",
     "text": [
      "0 <class 'int'>\n",
      "1 <class 'int'>\n",
      "2 <class 'int'>\n",
      "hh\n",
      "3 <class 'int'>\n",
      "4 <class 'int'>\n",
      "5 <class 'int'>\n",
      "6 <class 'int'>\n",
      "7 <class 'int'>\n",
      "8 <class 'int'>\n",
      "9 <class 'int'>\n"
     ]
    }
   ],
   "source": [
    "test_list=[2]\n",
    "for i in range(10):\n",
    "    print(i,type(i))\n",
    "    if i in test_list:\n",
    "        print('hh')\n",
    "    # break"
   ]
  },
  {
   "cell_type": "code",
   "execution_count": 152,
   "id": "aaa5a7de-30dc-4bca-be21-c9b3ce196505",
   "metadata": {},
   "outputs": [],
   "source": [
    "train_data=data\n",
    "# categorical=[79,81,82,83,84,80]\n",
    "# mixed={0:0,78:0}\n",
    "general=[0,78,1,2,3,4,5,6,7,8,9,10,11,12,13,14,15,16,17,18,19,20,21,22,23,24,25,26,27,28,29,30,31,32,33,34,35,36,37,38,39,40,41,42,43,44,45,46,47,48,49,50,51,52,53,54,55,56,57,58,59,60,61,62,63,64,65,66,67,68,69,70,71,72,73,74,75,76,77,85]\n",
    "non_categorical=[0,78,1,2,3,4,5,6,7,8,9,10,11,12,13,14,15,16,17,18,19,20,21,22,23,24,25,26,27,28,29,30,31,32,33,34,35,36,37,38,39,40,41,42,43,44,45,46,47,48,49,50,51,52,53,54,55,56,57,58,59,60,61,62,63,64,65,66,67,68,69,70,71,72,73,74,75,76,77,85]\n",
    "\n",
    "categorical=[79,81,82,83,84,80]\n",
    "mixed={}\n",
    "# general=[]\n",
    "# non_categorical=[]\n",
    "\n",
    "# problem_type = None\n",
    "# target_index = None\n",
    "# if type:\n",
    "#     problem_type = list(type.keys())[0]\n",
    "#     if problem_type:\n",
    "#         target_index = train_data.columns.get_loc(type[problem_type])\n",
    "\n",
    "transformer=DataTransformer(train_data=train_data, categorical_list=categorical, mixed_dict=mixed,general_list=general, non_categorical_list=non_categorical)\n",
    "transformer.fit()\n"
   ]
  },
  {
   "cell_type": "code",
   "execution_count": 153,
   "id": "88d1d681-b46b-4ff3-b37a-a33d617b0868",
   "metadata": {},
   "outputs": [
    {
     "data": {
      "text/plain": [
       "<feature_engineering.DataTransformer at 0x7f8641a8ff10>"
      ]
     },
     "execution_count": 153,
     "metadata": {},
     "output_type": "execute_result"
    }
   ],
   "source": [
    "transformer"
   ]
  },
  {
   "cell_type": "code",
   "execution_count": 154,
   "id": "856405b2-462d-4faa-9fc2-c982ba499c9c",
   "metadata": {},
   "outputs": [],
   "source": [
    "train_data_test = transformer.transform(train_data.values)"
   ]
  },
  {
   "cell_type": "code",
   "execution_count": 155,
   "id": "b182e560-2884-4d9a-abf3-17954fcbd6f2",
   "metadata": {},
   "outputs": [
    {
     "data": {
      "text/plain": [
       "(473184, 164)"
      ]
     },
     "execution_count": 155,
     "metadata": {},
     "output_type": "execute_result"
    }
   ],
   "source": [
    "train_data_test.shape"
   ]
  },
  {
   "cell_type": "code",
   "execution_count": 159,
   "id": "7c5aabd9-64cc-4ce7-b699-a21601ed63b3",
   "metadata": {},
   "outputs": [
    {
     "data": {
      "text/plain": [
       "array([-0.97450339, -0.99999996, -0.99999997, -0.99999996, -0.99999978,\n",
       "       -0.99999994, -0.99999991, -0.99999993, -0.99999917, -0.99999995,\n",
       "       -0.99999997, -0.99999994, -0.99999972, -0.99999993, -0.99800399,\n",
       "        0.        , -0.99999994, -0.99999993, -0.99999976, -0.99999996,\n",
       "       -0.99999974, -0.99999673, -0.99999851, -0.99999937, -0.99999987,\n",
       "       -0.99999989, -0.99999961, -0.99999486, -0.99999834, -0.99999896,\n",
       "       -0.99999983, -0.99999516, -0.99999985, -0.99999991, -0.99999989,\n",
       "        0.        , -0.99999628, -0.99999977, -0.99999966,  0.        ,\n",
       "       -0.99999593, -0.99999979, -0.99999964, -0.99999993, -0.99999993,\n",
       "       -0.99999992, -0.99999965, -0.9999999 , -0.99999982, -0.99999983,\n",
       "       -0.99999676, -0.9999986 , -0.9999997 , -0.99999992, -0.9999997 ,\n",
       "       -0.99999981, -0.99999303, -0.99999992, -0.99999939, -0.99999981,\n",
       "       -0.99999976, -0.99999922, -0.99999992, -0.99999991,  0.        ,\n",
       "       -0.9999999 , -0.99999976, -0.99999989,  0.        , -0.99999675,\n",
       "       -0.99999974, -0.9999999 , -0.9999994 , -0.99999992, -0.99999991,\n",
       "       -0.99999974, -0.99999964, -0.99999982, -0.97450339,  1.        ,\n",
       "        0.        ,  1.        ,  0.        ,  1.        ,  0.        ,\n",
       "        0.        ,  0.        ,  0.        ,  0.        ,  0.        ,\n",
       "        0.        ,  0.        ,  0.        ,  0.        ,  0.        ,\n",
       "        0.        ,  0.        ,  0.        ,  0.        ,  0.        ,\n",
       "        0.        ,  0.        ,  0.        ,  0.        ,  0.        ,\n",
       "        0.        ,  0.        ,  0.        ,  0.        ,  0.        ,\n",
       "        0.        ,  0.        ,  0.        ,  0.        ,  0.        ,\n",
       "        0.        ,  0.        ,  0.        ,  0.        ,  0.        ,\n",
       "        1.        ,  0.        ,  0.        ,  0.        ,  0.        ,\n",
       "        0.        ,  0.        ,  0.        ,  0.        ,  0.        ,\n",
       "        0.        ,  0.        ,  0.        ,  0.        ,  0.        ,\n",
       "        0.        ,  0.        ,  0.        ,  0.        ,  0.        ,\n",
       "        0.        ,  0.        ,  0.        ,  0.        ,  0.        ,\n",
       "        0.        ,  0.        ,  0.        ,  0.        ,  0.        ,\n",
       "        0.        ,  0.        ,  0.        ,  0.        ,  0.        ,\n",
       "        0.        ,  0.        ,  0.        ,  0.        ,  1.        ,\n",
       "        0.        ,  1.        ,  0.        , -0.97590584])"
      ]
     },
     "execution_count": 159,
     "metadata": {},
     "output_type": "execute_result"
    }
   ],
   "source": [
    "train_data_test[0]"
   ]
  },
  {
   "cell_type": "code",
   "execution_count": 161,
   "id": "c7fd0f2f-4ec2-46eb-9e4e-a6348d0c8a97",
   "metadata": {},
   "outputs": [],
   "source": [
    "df_to_merge = pd.DataFrame(train_data_test, columns=[f'NewColumn{i}' for i in range(train_data_test.shape[1])])"
   ]
  },
  {
   "cell_type": "code",
   "execution_count": 164,
   "id": "24cfe76c-1d74-4182-891b-839e726aab02",
   "metadata": {},
   "outputs": [],
   "source": [
    "result_df = pd.concat([data_time, df_to_merge], axis=1)"
   ]
  },
  {
   "cell_type": "code",
   "execution_count": 168,
   "id": "2e8ccc85-4d33-47f6-be7a-469655799c14",
   "metadata": {},
   "outputs": [
    {
     "name": "stdout",
     "output_type": "stream",
     "text": [
      "0        -0.974503\n",
      "1        -0.974503\n",
      "2        -0.974503\n",
      "3        -0.974503\n",
      "4        -0.974503\n",
      "            ...   \n",
      "473179    0.327585\n",
      "473180    0.327585\n",
      "473181    0.327585\n",
      "473182    0.327585\n",
      "473183    0.327585\n",
      "Name: OT, Length: 473184, dtype: float64\n"
     ]
    }
   ],
   "source": [
    "# 将 NewColumn78 列名更改为 0T\n",
    "result_df = result_df.rename(columns={'NewColumn78': 'OT'})\n",
    "\n",
    "# 显示结果\n",
    "print(result_df['OT'])\n"
   ]
  },
  {
   "cell_type": "code",
   "execution_count": 169,
   "id": "9d095812-e3d8-4b9e-83d2-d694f3018e48",
   "metadata": {},
   "outputs": [],
   "source": [
    "result_df.to_csv('/home/jmz/huangshan_dataset/huangshan_data_fill_count_in_feature_eng.csv',index=None)"
   ]
  },
  {
   "cell_type": "code",
   "execution_count": null,
   "id": "5cb5973d-cfc0-4939-896c-bdbd7bdb0430",
   "metadata": {},
   "outputs": [],
   "source": []
  },
  {
   "cell_type": "code",
   "execution_count": 123,
   "id": "a6ec2414-3ba7-4a49-8a56-0e6515a50881",
   "metadata": {},
   "outputs": [
    {
     "name": "stdout",
     "output_type": "stream",
     "text": [
      "88\n"
     ]
    }
   ],
   "source": [
    "print(len(transformer.output_info))"
   ]
  },
  {
   "cell_type": "code",
   "execution_count": 124,
   "id": "3f0e223f-a3c8-45e5-b182-0b819038dfe0",
   "metadata": {},
   "outputs": [],
   "source": [
    "train_data_back=transformer.inverse_transform(train_data_test)"
   ]
  },
  {
   "cell_type": "code",
   "execution_count": 125,
   "id": "c2f78ef0-fe85-4a39-9c78-232ca9562b70",
   "metadata": {},
   "outputs": [
    {
     "data": {
      "text/plain": [
       "(4999, 86)"
      ]
     },
     "execution_count": 125,
     "metadata": {},
     "output_type": "execute_result"
    }
   ],
   "source": [
    "train_data_back[0].shape"
   ]
  },
  {
   "cell_type": "code",
   "execution_count": 126,
   "id": "003279b8-17f9-4695-ae1d-4f550e63502e",
   "metadata": {},
   "outputs": [
    {
     "data": {
      "text/plain": [
       "0"
      ]
     },
     "execution_count": 126,
     "metadata": {},
     "output_type": "execute_result"
    }
   ],
   "source": [
    "train_data_back[1]"
   ]
  },
  {
   "cell_type": "code",
   "execution_count": null,
   "id": "5d38e005-a2a6-480e-8eca-6daa6840485c",
   "metadata": {},
   "outputs": [],
   "source": []
  },
  {
   "cell_type": "code",
   "execution_count": null,
   "id": "70653976-dc90-4e04-96c4-7abaddb461c9",
   "metadata": {},
   "outputs": [],
   "source": []
  }
 ],
 "metadata": {
  "kernelspec": {
   "display_name": "Python 3 (ipykernel)",
   "language": "python",
   "name": "python3"
  },
  "language_info": {
   "codemirror_mode": {
    "name": "ipython",
    "version": 3
   },
   "file_extension": ".py",
   "mimetype": "text/x-python",
   "name": "python",
   "nbconvert_exporter": "python",
   "pygments_lexer": "ipython3",
   "version": "3.9.18"
  }
 },
 "nbformat": 4,
 "nbformat_minor": 5
}
